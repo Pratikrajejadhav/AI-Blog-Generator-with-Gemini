{
 "cells": [
  {
   "cell_type": "code",
   "execution_count": 21,
   "metadata": {},
   "outputs": [],
   "source": [
    "import pandas as pd\n",
    "\n",
    "# Define user data\n",
    "users = [\n",
    "    {\"name\": \"Pratik Jadhav\", \"email\": \"pratik@gmail.com\", \"number\": \"1234567890\", \"password\": \"password123\", \"dob\": \"2002-02-01\"},\n",
    "    {\"name\": \"Sahil Khan\", \"email\": \"sahil@gmail.com\", \"number\": \"0987654321\", \"password\": \"password456\", \"dob\": \"2000-02-02\"}\n",
    "]\n",
    "\n",
    "# Create DataFrame and save to CSV\n",
    "user_data = pd.DataFrame(users)\n",
    "user_data.to_csv('user_data_no.csv', index=False)\n"
   ]
  },
  {
   "cell_type": "code",
   "execution_count": 22,
   "metadata": {},
   "outputs": [
    {
     "data": {
      "text/html": [
       "<div>\n",
       "<style scoped>\n",
       "    .dataframe tbody tr th:only-of-type {\n",
       "        vertical-align: middle;\n",
       "    }\n",
       "\n",
       "    .dataframe tbody tr th {\n",
       "        vertical-align: top;\n",
       "    }\n",
       "\n",
       "    .dataframe thead th {\n",
       "        text-align: right;\n",
       "    }\n",
       "</style>\n",
       "<table border=\"1\" class=\"dataframe\">\n",
       "  <thead>\n",
       "    <tr style=\"text-align: right;\">\n",
       "      <th></th>\n",
       "      <th>name</th>\n",
       "      <th>email</th>\n",
       "      <th>number</th>\n",
       "      <th>password</th>\n",
       "      <th>dob</th>\n",
       "    </tr>\n",
       "  </thead>\n",
       "  <tbody>\n",
       "    <tr>\n",
       "      <th>0</th>\n",
       "      <td>Pratik Jadhav</td>\n",
       "      <td>pratik@gmail.com</td>\n",
       "      <td>1234567890</td>\n",
       "      <td>password123</td>\n",
       "      <td>2002-02-01</td>\n",
       "    </tr>\n",
       "    <tr>\n",
       "      <th>1</th>\n",
       "      <td>Sahil Khan</td>\n",
       "      <td>sahil@gmail.com</td>\n",
       "      <td>0987654321</td>\n",
       "      <td>password456</td>\n",
       "      <td>2000-02-02</td>\n",
       "    </tr>\n",
       "  </tbody>\n",
       "</table>\n",
       "</div>"
      ],
      "text/plain": [
       "            name             email      number     password         dob\n",
       "0  Pratik Jadhav  pratik@gmail.com  1234567890  password123  2002-02-01\n",
       "1     Sahil Khan   sahil@gmail.com  0987654321  password456  2000-02-02"
      ]
     },
     "execution_count": 22,
     "metadata": {},
     "output_type": "execute_result"
    }
   ],
   "source": [
    "user_data"
   ]
  },
  {
   "cell_type": "code",
   "execution_count": 23,
   "metadata": {},
   "outputs": [
    {
     "name": "stdout",
     "output_type": "stream",
     "text": [
      "Overwriting Blog_Generator.py\n"
     ]
    }
   ],
   "source": [
    "%%writefile Blog_Generator.py\n",
    "import streamlit as st\n",
    "import pandas as pd\n",
    "import google.generativeai as genai\n",
    "\n",
    "\n",
    "# Define user data\n",
    "users = [\n",
    "    {\"name\": \"Pratik Jadhav\", \"email\": \"pratik@gmail.com\", \"number\": \"1234567890\", \"password\": \"password123\", \"dob\": \"2002-02-01\"},\n",
    "    {\"name\": \"Sahil Khan\", \"email\": \"sahil@gmail.com\", \"number\": \"0987654321\", \"password\": \"password456\", \"dob\": \"2000-02-02\"},\n",
    "    {\"name\": \"Test User\", \"email\": \"test@gmail.com\", \"number\": \"0987456321\", \"password\": \"testpass\", \"dob\": \"2000-02-14\"}\n",
    "]\n",
    "\n",
    "# Create DataFrame and save to CSV\n",
    "user_data = pd.DataFrame(users)\n",
    "user_data.to_csv('user_data_no.csv', index=False)\n",
    "\n",
    "# Load user data from CSV file\n",
    "user_data = pd.read_csv(\"user_data_no.csv\")\n",
    "\n",
    "# Function to display the login form\n",
    "def show_login_form():\n",
    "    st.header(\"AI BLOG GENERATOR\")\n",
    "    st.subheader(\"Login\")\n",
    "    email = st.text_input(\"Email\")\n",
    "    password = st.text_input(\"Password\", type=\"password\")\n",
    "    st.write(\"[ Use this email and password to login : - email_id = ( 'test@gmail.com' ) and password = 'testpass' ]\")\n",
    "    \n",
    "\n",
    "    if st.button(\"Login\"):\n",
    "        if email not in user_data[\"email\"].values:\n",
    "            st.error(\"Email not found!\")\n",
    "        else:\n",
    "            user_index = user_data.index[user_data[\"email\"] == email].tolist()[0]\n",
    "            stored_password = user_data[\"password\"].iloc[user_index]\n",
    "            if stored_password == password:\n",
    "                st.session_state[\"logged_in\"] = True\n",
    "                st.session_state[\"username\"] = user_data[\"name\"].iloc[user_index]\n",
    "                st.success(\"Login successful!\")\n",
    "                st.experimental_rerun()  # Redirect to the next page\n",
    "            else:\n",
    "                st.error(\"Incorrect password!\")\n",
    "\n",
    "# Function to display the AI Blog Generator page\n",
    "def show_next_page():\n",
    "    st.write(f\"Hello, you are welcome {st.session_state['username']}!\")\n",
    "    st.title(\"AI Blog Generator\")\n",
    "    st.subheader('Unleash the power of Generative AI to seamlessly generate amazing blogs.')\n",
    "    api_key = st.text_input(\"Enter your api key here\",type='password')\n",
    "    if api_key:\n",
    "        genai.configure(api_key=api_key)\n",
    " \n",
    "        topic = st.text_input(\"Enter the main topic of your Blog\")\n",
    "        headline =  st.text_input(\"Enter the title of your Blog\")\n",
    "        description = st.text_area(\"Give the descriptive idea of what should be in your blog\")\n",
    "        words = st.text_input(\"Enter the number of words limit of your Blog\")\n",
    "\n",
    "        prompt = f\"\"\"\n",
    "        write a blog on the given {topic}, The title of my blog should be {headline}, use the {description} as a context \n",
    "        in the blog and the length of my blog should be {words} , generate the blog\n",
    "        \"\"\"\n",
    "\n",
    "        if st.button(\"Generate Blog\"):\n",
    "            model = genai.GenerativeModel(\"gemini-1.5-flash-latest\")\n",
    "            response = model.generate_content([prompt])\n",
    "            st.write(response.text)\n",
    "\n",
    "# Main app flow\n",
    "if \"logged_in\" not in st.session_state:\n",
    "    st.session_state[\"logged_in\"] = False\n",
    "    st.session_state[\"username\"] = None\n",
    "\n",
    "if not st.session_state[\"logged_in\"]:\n",
    "    show_login_form()\n",
    "else:\n",
    "    show_next_page()\n"
   ]
  },
  {
   "cell_type": "code",
   "execution_count": null,
   "metadata": {},
   "outputs": [],
   "source": []
  }
 ],
 "metadata": {
  "kernelspec": {
   "display_name": "base",
   "language": "python",
   "name": "python3"
  },
  "language_info": {
   "codemirror_mode": {
    "name": "ipython",
    "version": 3
   },
   "file_extension": ".py",
   "mimetype": "text/x-python",
   "name": "python",
   "nbconvert_exporter": "python",
   "pygments_lexer": "ipython3",
   "version": "3.11.5"
  }
 },
 "nbformat": 4,
 "nbformat_minor": 2
}
